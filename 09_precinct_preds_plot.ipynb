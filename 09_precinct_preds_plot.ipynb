{
 "cells": [
  {
   "cell_type": "code",
   "execution_count": null,
   "id": "ff70f059-a851-4f87-ad95-c38c5549b8ab",
   "metadata": {},
   "outputs": [],
   "source": [
    "# President: 2016 (Trump), 2020 (Biden), 2024 (Trump)\n",
    "# Governor: 2018 (Whitmer), 2022 (Whitmer)\n",
    "# Secretary of State: 2018 (Benson), 2022 (Benson)\n",
    "# Attorney General: 2018 (Nessel), 2022 (Nessel)\n",
    "# U.S. Senate: 2014 (Peters), 2018 (Stabenow), 2020 (Peters), 2024 (Slotkin)\n",
    "# U.S. House: every cycle\n",
    "# State Senate: 2014, 2018, 2022\n",
    "# State House: every cycle\n",
    "\n",
    "# OFFICES = ['U.S. House', 'State House']\n",
    "# YEARS = ['2018', '2020', '2022', '2024']\n",
    "\n",
    "# OFFICES = ['U.S. Senate']\n",
    "# YEARS = ['2014', '2018', '2020', '2024']\n",
    "\n",
    "# OFFICES = ['State Senate']\n",
    "# YEARS = ['2014', '2018', '2022']\n",
    "\n",
    "# OFFICES = ['President']\n",
    "# YEARS = ['2016', '2020', '2024']\n",
    "\n",
    "# Not enough data\n",
    "# # OFFICES = ['Governor', 'Secretary of State', 'Attorney General']\n",
    "# # YEARS = ['2018', '2022']"
   ]
  },
  {
   "cell_type": "code",
   "execution_count": null,
   "id": "2c294343-29f6-4ca9-8061-3d187da6463d",
   "metadata": {},
   "outputs": [],
   "source": [
    "import warnings\n",
    "warnings.filterwarnings(\"ignore\")"
   ]
  },
  {
   "cell_type": "code",
   "execution_count": null,
   "id": "c7b3a670-c5e0-43c4-9b30-09f01b25d8b6",
   "metadata": {},
   "outputs": [],
   "source": [
    "import geopandas as gpd\n",
    "import pandas as pd\n",
    "import matplotlib.pyplot as plt\n",
    "import numpy as np"
   ]
  },
  {
   "cell_type": "code",
   "execution_count": null,
   "id": "ed9b518d-1e8c-422f-aadf-fab2064aec31",
   "metadata": {},
   "outputs": [],
   "source": [
    "pd.set_option(\"display.max_rows\", None)\n",
    "pd.set_option(\"display.max_columns\", None)"
   ]
  },
  {
   "cell_type": "code",
   "execution_count": null,
   "id": "82b7404c-5952-45ce-9514-8ef48a18c490",
   "metadata": {},
   "outputs": [],
   "source": [
    "def makeColors():\n",
    "    n_colors = 17\n",
    "    half = n_colors // 2\n",
    "    \n",
    "    # First half red\n",
    "    reds = np.linspace(255, 129, half, dtype=int)\n",
    "    greens = np.linspace(0, 129, half, dtype=int)\n",
    "    blues = np.linspace(0, 129, half, dtype=int)\n",
    "    first_half = [(r, g, b) for r, g, b in zip(reds, greens, blues)]\n",
    "    \n",
    "    # Middle is gray\n",
    "    middle = [(128, 128, 128)]\n",
    "    \n",
    "    # Second half blue\n",
    "    reds = np.linspace(127, 0, half, dtype=int)\n",
    "    greens = np.linspace(127, 0, half, dtype=int)\n",
    "    blues = np.linspace(127, 255, half, dtype=int)\n",
    "    second_half = [(r, g, b) for r, g, b in zip(reds, greens, blues)]\n",
    "    \n",
    "    # Make gradient\n",
    "    full_gradient_rgb = first_half + middle + second_half\n",
    "    colors = ['#{:02x}{:02x}{:02x}'.format(r, g, b) for r, g, b in full_gradient_rgb]\n",
    "\n",
    "    return colors"
   ]
  },
  {
   "cell_type": "code",
   "execution_count": null,
   "id": "bc6a3a9c-0436-4a4e-8c33-707b34cb8c27",
   "metadata": {},
   "outputs": [],
   "source": [
    "from mpl_toolkits.axes_grid1 import make_axes_locatable\n",
    "from matplotlib.colors import to_rgba\n",
    "\n",
    "def plotPrecinctBounds(df, year, office):\n",
    "    colors = makeColors()\n",
    "    \n",
    "    color_map = {\n",
    "        \"gargantuanly more republican\": colors[0],\n",
    "        \"massively more republican\": colors[1],\n",
    "        \"much much more republican\": colors[2],\n",
    "        \"much more republican\": colors[3],\n",
    "        \"more republican\": colors[4],\n",
    "        \"slightly more republican\": colors[5],\n",
    "        \"very slightly more republican\": colors[6],\n",
    "        \"infinitesimally more republican\": colors[7],\n",
    "        \"no change\": colors[8],\n",
    "        \"infinitesimally more democrat\": colors[9],\n",
    "        \"very slightly more democrat\": colors[10],\n",
    "        \"slightly more democrat\": colors[11],\n",
    "        \"more democrat\": colors[12],\n",
    "        \"much more democrat\": colors[13],\n",
    "        \"much much democrat\": colors[14],\n",
    "        \"massively more democrat\": colors[15],\n",
    "        \"gargantuanly more democrat\": colors[16],\n",
    "        \"unknown\": '#000000',\n",
    "    }\n",
    "\n",
    "    df['color'] = df['predicted_partisanship_change'].apply(lambda x: color_map[x])\n",
    "\n",
    "    fig, ax = plt.subplots(figsize=(80, 80))\n",
    "    divider = make_axes_locatable(ax)\n",
    "\n",
    "    df.boundary.plot(ax=ax, color=\"black\", linewidth=0.1)\n",
    "    df.plot(ax=ax, color=df['color'], edgecolor=\"black\", linewidth=0.01)\n",
    "\n",
    "    ax.margins(0)\n",
    "    ax.set_title('Precinct Preds', fontsize=64)\n",
    "    ax.set_axis_off()\n",
    "\n",
    "    plt.subplots_adjust(left=0, right=1, top=1, bottom=0)\n",
    "    plt.savefig('output/maps/precincts/' + str(year) + \"_\" + office.replace(' ', '_').replace('.', '') + \"_Prediction_Map.png\")\n",
    "    \n",
    "    plt.close(fig)"
   ]
  },
  {
   "cell_type": "code",
   "execution_count": null,
   "id": "9766ad4a-26d2-4fd1-8c1d-3f977383bcb4",
   "metadata": {},
   "outputs": [],
   "source": [
    "for year in YEARS:\n",
    "    for office in OFFICES:\n",
    "        df_precinct_outcomes = gpd.read_file(f'data/generated_data/df_02_vote_changes_calc_{year}_{office.replace(' ', '_').replace('.', '')}.geojson', driver='GeoJSON')\n",
    "        df_precinct_outcomes['standardized_id_num'] = df_precinct_outcomes['standardized_id_num'].astype(str).str.zfill(13)\n",
    "        \n",
    "        df_precinct_pred_change = pd.read_csv(f'data/generated_data/predicted_partisanship_change_{year}_{office.replace(' ', '_').replace('.', '')}.csv')\n",
    "        df_precinct_pred_change['standardized_id_num'] = df_precinct_pred_change['standardized_id_num'].astype(int).astype(str).str.zfill(13)\n",
    "\n",
    "        df_precinct_pred = df_precinct_outcomes.merge(df_precinct_pred_change, on=\"standardized_id_num\", how=\"inner\")\n",
    "        \n",
    "        plotPrecinctBounds(df_precinct_pred, year, office)\n",
    "\n",
    "print('DONE')"
   ]
  },
  {
   "cell_type": "code",
   "execution_count": null,
   "id": "e5bc4b71-791a-4100-b833-d765d7b8f1be",
   "metadata": {},
   "outputs": [],
   "source": []
  }
 ],
 "metadata": {
  "kernelspec": {
   "display_name": "Python 3 (ipykernel)",
   "language": "python",
   "name": "python3"
  },
  "language_info": {
   "codemirror_mode": {
    "name": "ipython",
    "version": 3
   },
   "file_extension": ".py",
   "mimetype": "text/x-python",
   "name": "python",
   "nbconvert_exporter": "python",
   "pygments_lexer": "ipython3",
   "version": "3.12.7"
  }
 },
 "nbformat": 4,
 "nbformat_minor": 5
}
