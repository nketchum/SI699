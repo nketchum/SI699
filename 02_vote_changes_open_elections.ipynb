{
 "cells": [
  {
   "cell_type": "markdown",
   "id": "95d06013-0375-43f9-a0ac-20205e6a9d02",
   "metadata": {},
   "source": [
    "**Note, the cycle computation below is hard-coded as four-year cycles, for fast-tracking tests**"
   ]
  },
  {
   "cell_type": "code",
   "execution_count": null,
   "id": "97384193-d024-464b-a130-8a72ce42909c",
   "metadata": {},
   "outputs": [],
   "source": [
    "import geopandas as gpd\n",
    "import pandas as pd\n",
    "import numpy as np\n",
    "import os\n",
    "import gc\n",
    "from shapely import wkt"
   ]
  },
  {
   "cell_type": "code",
   "execution_count": null,
   "id": "4675e924-f587-4379-9c82-7d2a3f96d866",
   "metadata": {},
   "outputs": [],
   "source": [
    "import warnings\n",
    "warnings.filterwarnings(\"ignore\")"
   ]
  },
  {
   "cell_type": "code",
   "execution_count": null,
   "id": "aaec4fb2-390a-4005-b5d2-63eb8aa21985",
   "metadata": {},
   "outputs": [],
   "source": [
    "pd.set_option(\"display.max_columns\", None)"
   ]
  },
  {
   "cell_type": "code",
   "execution_count": null,
   "id": "4a6c15e5-a0cf-4ed2-9db2-c33f7d2a7670",
   "metadata": {},
   "outputs": [],
   "source": [
    "# President: 2016 (Trump), 2020 (Biden), 2024 (Trump)\n",
    "# Governor: 2018 (Whitmer), 2022 (Whitmer)\n",
    "# Secretary of State: 2018 (Benson), 2022 (Benson)\n",
    "# Attorney General: 2018 (Nessel), 2022 (Nessel)\n",
    "# U.S. Senate: 2014 (Peters), 2018 (Stabenow), 2020 (Peters), 2024 (Slotkin)\n",
    "# U.S. House: every cycle\n",
    "# State Senate: 2014, 2018, 2022\n",
    "# State House: every cycle\n",
    "# State Board of Education: 2014, 2016, 2018, 2020, 2022, 2024 (every even number year)\n",
    "# University of Michigan Board of Regents: 2014, 2016, 2018, 2020, 2022, 2024 (every two years)\n",
    "# Michigan State University Board of Trustees: 2014, 2016, 2018, 2020, 2022, 2024 (every two years)\n",
    "# Wayne State University Board of Governors: 2014, 2016, 2018, 2020, 2022, 2024 (every two years)\n",
    "# Straight Party – 2020 and later (OpenElection daty only)\n",
    "\n",
    "# OFFICES = ['U.S. House', 'State House']\n",
    "# YEARS = ['2014', '2016', '2018', '2020', '2022', '2024']\n",
    "\n",
    "# OFFICES = ['U.S. House']\n",
    "# YEARS = ['2014', '2016', '2018', '2020', '2022', '2024']\n",
    "\n",
    "OFFICES = ['U.S. Senate']\n",
    "YEARS = ['2014', '2018', '2020', '2024']\n",
    "# YEARS = ['2014', '2018', '2020', '2024']\n",
    "\n",
    "# OFFICES = ['State Senate']\n",
    "# YEARS = ['2014', '2018', '2022']\n",
    "\n",
    "# OFFICES = ['President']\n",
    "# YEARS = ['2016', '2020', '2024'] # this will compute changes for 2024, using the previous two cycles\n",
    "\n",
    "# OFFICES = ['Governor', 'Secretary of State', 'Attorney General']\n",
    "# YEARS = ['2018', '2022']"
   ]
  },
  {
   "cell_type": "code",
   "execution_count": null,
   "id": "69412db3-92b4-4fa3-b3c1-b12f9ea12434",
   "metadata": {},
   "outputs": [],
   "source": [
    "dfs = {}\n",
    "\n",
    "for year in YEARS:\n",
    "    for office in OFFICES:\n",
    "        df_precinct_vote = pd.read_csv('data/generated_data/df_01_election_' + str(year) + '_' + office.replace('.', '').replace(' ', '_') + '.csv')\n",
    "\n",
    "        df_precinct_vote['geometry'] = df_precinct_vote['geometry'].apply(wkt.loads)\n",
    "        \n",
    "        df_precinct_vote = gpd.GeoDataFrame(df_precinct_vote, geometry='geometry')\n",
    "        df_precinct_vote.set_crs(epsg=4326, inplace=True)\n",
    "        \n",
    "        dfs[year] = df_precinct_vote\n",
    "        del(df_precinct_vote)\n",
    "\n",
    "for key in dfs:\n",
    "    for office in OFFICES:\n",
    "        df = dfs[key]\n",
    "        \n",
    "        df = df[['standardized_id_num', \n",
    "            'dem_votes', 'rep_votes', 'oth_votes', \n",
    "            'dem_share', 'rep_share', 'oth_share', \n",
    "            'registered_voters', 'turnout_pct']]\n",
    "        \n",
    "        df = df[df[\"standardized_id_num\"].notna() & (df[\"standardized_id_num\"] != \"\")]\n",
    "        df.to_csv('data/generated_data/df_02_vote_changes_' + str(key) + '_' + office.replace('.', '').replace(' ', '_') + '.csv', index=False)\n",
    "        del(df)\n",
    "\n",
    "del(dfs)\n",
    "gc.collect()"
   ]
  },
  {
   "cell_type": "markdown",
   "id": "386ed679-bfc9-4cbc-872a-b5a714f6328b",
   "metadata": {},
   "source": [
    "### Add vote shifts"
   ]
  },
  {
   "cell_type": "markdown",
   "id": "48ffa1ad-5e14-4d94-b6cd-50c0fdae16b5",
   "metadata": {},
   "source": [
    "#### Calculate *past* cycle outcomes\n",
    "Use previous two elections from the current election to guage historical changes."
   ]
  },
  {
   "cell_type": "code",
   "execution_count": null,
   "id": "e9c6726a-a3aa-4c86-8efc-4f1f66ff3ac9",
   "metadata": {},
   "outputs": [],
   "source": [
    "# THIS THING ASSUMES 2-YEAR CYCLES, WHEN SOME OFFICES\n",
    "# ARE FOUR-YEAR CYCLES OR EVENT VARIABLE CYCLES (US SENATE)\n",
    "\n",
    "for year in YEARS:\n",
    "    for office in OFFICES:\n",
    "        # No previous changes to compute until the third dataset.\n",
    "        # Third dataset and beyond will include the change in partisanship\n",
    "        # from the previous two cycles, so that we are only looking backwards\n",
    "        # and not looking at \"unseen\" information for new data.\n",
    "        if year <= YEARS[1]:\n",
    "            continue # Third dataset not yet reached.\n",
    "\n",
    "        # Current cycle\n",
    "        df_curr = pd.read_csv(f\"data/generated_data/df_02_vote_changes_{year}_{office.replace('.', '').replace(' ', '_')}.csv\")\n",
    "\n",
    "        # Insert electoral changes without looking into the future.\n",
    "        # We add historical changes to the current dataset by looking at\n",
    "        # the prior two election cycles, computing the change between those,\n",
    "        # and recording those historical changes to the current cycle's features.\n",
    "        \n",
    "        # Previous-previous cycle – 4 years ago IF 4-year cycle, then 8 yearws\n",
    "        prev_prev_year = str(int(year) - 8)\n",
    "        df_prev_prev = pd.read_csv(f\"data/generated_data/df_02_vote_changes_{prev_prev_year}_{office.replace('.', '').replace(' ', '_')}.csv\")\n",
    "        df_prev_prev = df_prev_prev.rename(columns={\n",
    "            'dem_votes': 'dem_votes_prev_prev', 'rep_votes': 'rep_votes_prev_prev', 'oth_votes': 'oth_votes_prev_prev', \n",
    "            'dem_share': 'dem_share_prev_prev', 'rep_share': 'rep_share_prev_prev', 'oth_share': 'oth_share_prev_prev',\n",
    "            'registered_voters': 'registered_voters_prev_prev', 'turnout_pct': 'turnout_pct_prev_prev',\n",
    "        })\n",
    "        \n",
    "        # Previous cycle – 2 years ago IF 4-year cycle, then 4 yearws\n",
    "        prev_year = str(int(year) - 4)\n",
    "        df_prev = pd.read_csv(f\"data/generated_data/df_02_vote_changes_{prev_year}_{office.replace('.', '').replace(' ', '_')}.csv\")\n",
    "        df_prev = df_prev.rename(columns={\n",
    "            'dem_votes': 'dem_votes_prev', 'rep_votes': 'rep_votes_prev', 'oth_votes': 'oth_votes_prev', \n",
    "            'dem_share': 'dem_share_prev', 'rep_share': 'rep_share_prev', 'oth_share': 'oth_share_prev',\n",
    "            'registered_voters': 'registered_voters_prev', 'turnout_pct': 'turnout_pct_prev',\n",
    "        })\n",
    "\n",
    "        # Make sure standardized_id_num is 13-character left-zero-padded string\n",
    "        df_prev_prev['standardized_id_num'] = df_prev_prev['standardized_id_num'].apply(lambda x: str(x).zfill(13))\n",
    "        df_prev['standardized_id_num'] = df_prev['standardized_id_num'].apply(lambda x: str(x).zfill(13))\n",
    "\n",
    "        # Merge previous and current\n",
    "        df_prev_merged = pd.merge(df_prev_prev, df_prev, on=\"standardized_id_num\", how=\"left\") # inner?\n",
    "        df_all_merged = pd.merge(df_curr, df_prev_merged, on=\"standardized_id_num\", how=\"left\") # inner?\n",
    "\n",
    "        # Compute share changes\n",
    "        df_all_merged[\"dem_share_change\"] = df_all_merged[\"dem_share_prev_prev\"] - df_all_merged[\"dem_share_prev\"]\n",
    "        df_all_merged[\"rep_share_change\"] = df_all_merged[\"rep_share_prev_prev\"] - df_all_merged[\"rep_share_prev\"]\n",
    "        df_all_merged[\"oth_share_change\"] = df_all_merged[\"oth_share_prev_prev\"] - df_all_merged[\"oth_share_prev\"]\n",
    "\n",
    "        # Compute total changes\n",
    "        df_all_merged[\"dem_votes_change\"] = df_all_merged[\"dem_votes_prev_prev\"] - df_all_merged[\"dem_votes_prev\"]\n",
    "        df_all_merged[\"rep_votes_change\"] = df_all_merged[\"rep_votes_prev_prev\"] - df_all_merged[\"rep_votes_prev\"]\n",
    "        df_all_merged[\"oth_votes_change\"] = df_all_merged[\"oth_votes_prev_prev\"] - df_all_merged[\"oth_votes_prev\"]\n",
    "\n",
    "        # Compute turnout\n",
    "        df_all_merged[\"registered_voters_change\"] = df_all_merged[\"registered_voters_prev_prev\"] - df_all_merged[\"registered_voters_prev\"]\n",
    "        df_all_merged[\"turnout_pct_change\"] = df_all_merged[\"turnout_pct_prev_prev\"] - df_all_merged[\"turnout_pct_prev\"]\n",
    "\n",
    "        # Save as parquet for efficiency\n",
    "        df_all_merged.to_parquet(f\"data/generated_data/df_02_vote_changes_calc_{year}_{office.replace('.', '').replace(' ', '_')}.parquet\", index=False)\n",
    "        \n",
    "        # Free memory\n",
    "        del df_prev_prev, df_prev, df_curr, df_all_merged\n",
    "        gc.collect()"
   ]
  },
  {
   "cell_type": "code",
   "execution_count": null,
   "id": "e5b2da0d-d934-4261-a55f-7433f4b7a8b7",
   "metadata": {},
   "outputs": [],
   "source": [
    "for year in YEARS:\n",
    "    for office in OFFICES:\n",
    "        df_precinct_original = gpd.read_file('data/generated_data/df_01_election_' + str(year) + '_' + office.replace('.', '').replace(' ', '_') + '.geojson', driver='GeoJSON')\n",
    "        \n",
    "        # No change for first and second cycle.\n",
    "        if year <= YEARS[1]:\n",
    "            df_precinct_original['dem_share_change'] = 0.\n",
    "            df_precinct_original['rep_share_change'] = 0.\n",
    "            df_precinct_original['oth_share_change'] = 0.\n",
    "            df_precinct_original['dem_votes_change'] = 0.\n",
    "            df_precinct_original['rep_votes_change'] = 0.\n",
    "            df_precinct_original['oth_votes_change'] = 0.\n",
    "            df_precinct_original['registered_voters_change'] = 0.\n",
    "            df_precinct_original['turnout_pct_change'] = 0.\n",
    "            df_precinct_original.to_file('data/generated_data/df_02_vote_changes_calc_' + str(year) + '_' + office.replace('.', '').replace(' ', '_') +'.geojson', driver='GeoJSON')\n",
    "            continue\n",
    "    \n",
    "        df_precinct_change = pd.read_parquet('data/generated_data/df_02_vote_changes_calc_' + str(year) + '_' + office.replace('.', '').replace(' ', '_') +'.parquet')\n",
    "        df_precinct_change = df_precinct_change[['standardized_id_num', 'dem_share_prev', 'rep_share_prev', 'oth_share_prev', 'dem_share_change', 'rep_share_change', 'oth_share_change', 'dem_votes_change', 'rep_votes_change', 'oth_votes_change', 'registered_voters_change', 'turnout_pct_change']]\n",
    "        df_precinct_change['standardized_id_num'] = df_precinct_change['standardized_id_num'].astype(str).str.zfill(13)\n",
    "    \n",
    "        df_precinct_results = pd.merge(df_precinct_original, df_precinct_change, on='standardized_id_num', how='left')\n",
    "\n",
    "        # THIS GOES TO THE \"NORMAL\" DATA FOLDER FOR SUBSEQUENT NOTEBOOKS.\n",
    "        df_precinct_results.to_file('data/generated_data/df_02_vote_changes_calc_' + str(year) + '_' + office.replace('.', '').replace(' ', '_') +'.geojson', driver='GeoJSON')"
   ]
  },
  {
   "cell_type": "code",
   "execution_count": null,
   "id": "e5de670e-eaac-447e-8156-f7ec749d2116",
   "metadata": {},
   "outputs": [],
   "source": [
    "df_precinct_results.sample()"
   ]
  },
  {
   "cell_type": "code",
   "execution_count": null,
   "id": "264e5a76-1086-4ebb-ac89-a7571acc8419",
   "metadata": {},
   "outputs": [],
   "source": []
  }
 ],
 "metadata": {
  "kernelspec": {
   "display_name": "Python 3 (ipykernel)",
   "language": "python",
   "name": "python3"
  },
  "language_info": {
   "codemirror_mode": {
    "name": "ipython",
    "version": 3
   },
   "file_extension": ".py",
   "mimetype": "text/x-python",
   "name": "python",
   "nbconvert_exporter": "python",
   "pygments_lexer": "ipython3",
   "version": "3.12.7"
  }
 },
 "nbformat": 4,
 "nbformat_minor": 5
}
