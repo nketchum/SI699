{
 "cells": [
  {
   "cell_type": "markdown",
   "id": "2b764e28-092d-4043-bdc0-4031e8d7ba59",
   "metadata": {},
   "source": [
    "### Globals"
   ]
  },
  {
   "cell_type": "code",
   "execution_count": null,
   "id": "0ee10a40-d60e-42aa-9586-0eb25a8d5ebe",
   "metadata": {},
   "outputs": [],
   "source": [
    "# President: 2016 (Trump), 2020 (Biden), 2024 (Trump)\n",
    "# Governor: 2018 (Whitmer), 2022 (Whitmer)\n",
    "# Secretary of State: 2018 (Benson), 2022 (Benson)\n",
    "# Attorney General: 2018 (Nessel), 2022 (Nessel)\n",
    "# U.S. Senate: 2014 (Peters), 2018 (Stabenow), 2020 (Peters), 2024 (Slotkin)\n",
    "# U.S. House: every cycle\n",
    "# State Senate: 2014, 2018, 2022\n",
    "# State House: every cycle\n",
    "\n",
    "OFFICES = ['U.S. House']\n",
    "YEARS = ['2014', '2016', '2018', '2020', '2022']\n",
    "\n",
    "# OFFICES = ['U.S. Senate']\n",
    "# YEARS = ['2014', '2018', '2020']\n",
    "\n",
    "# OFFICES = ['State Senate']\n",
    "# YEARS = ['2014', '2018', '2022']\n",
    "\n",
    "# OFFICES = ['President']\n",
    "# YEARS = ['2016', '2020']\n",
    "\n",
    "# OFFICES = ['Governor', 'Secretary of State', 'Attorney General']\n",
    "# YEARS = ['2018', '2022']"
   ]
  },
  {
   "cell_type": "code",
   "execution_count": null,
   "id": "c2ba375b-4445-46e8-b865-87c3d1870ae6",
   "metadata": {},
   "outputs": [],
   "source": [
    "import warnings\n",
    "warnings.filterwarnings(\"ignore\")"
   ]
  },
  {
   "cell_type": "code",
   "execution_count": null,
   "id": "38ab2c83-e1e1-4591-b6a3-9e7b07281e82",
   "metadata": {},
   "outputs": [],
   "source": [
    "import geopandas as gpd\n",
    "import pandas as pd\n",
    "import numpy as np"
   ]
  },
  {
   "cell_type": "code",
   "execution_count": null,
   "id": "cfb65a5f-e617-4374-b74d-f5766d9c27e4",
   "metadata": {},
   "outputs": [],
   "source": [
    "pd.set_option(\"display.max_rows\", None)\n",
    "pd.set_option(\"display.max_columns\", None)"
   ]
  },
  {
   "cell_type": "code",
   "execution_count": null,
   "id": "80b73dd0-4612-4d3f-85ae-94c695508bd9",
   "metadata": {},
   "outputs": [],
   "source": [
    "def getPartyName(party):\n",
    "    party_clean = ''\n",
    "\n",
    "    if party in ['DEM', 'REP']:\n",
    "        party_clean = party\n",
    "    else:\n",
    "        party_clean = 'OTH'\n",
    "\n",
    "    return party_clean"
   ]
  },
  {
   "cell_type": "markdown",
   "id": "55cbceb5-f13f-43b1-b65e-cf5bfd1c4a8f",
   "metadata": {},
   "source": [
    "### Load/merge data functions"
   ]
  },
  {
   "cell_type": "code",
   "execution_count": null,
   "id": "f7721515-9f71-4ef7-a8ef-94ea73b2f12c",
   "metadata": {},
   "outputs": [],
   "source": [
    "def loadArcGIS(year, office):\n",
    "    print(f'Loading ArcGIS data for year {year} and office {office.replace(' ', '_').replace('.', '')}...')\n",
    "    df = gpd.read_file(f'data/generated_data/df_00_election_{year}_{office.replace('.', '').replace(' ', '_')}.geojson')\n",
    "    \n",
    "    # Don't convert \"Precinct Votes\" leave as int64.\n",
    "    columns_to_convert = ['Candidate ID', 'Michigan County Code', 'City/Township Code', \n",
    "                          'Ward Number', 'Precinct Number', 'Precinct Label', \n",
    "                          'Office Code', 'District Code', 'Status Code', 'Candidate Last Name', \n",
    "                          'Candidate First Name', 'Candidate Middle Name', 'Candidate Party Name', \n",
    "                          'Office Description', 'County Name', 'Census County Code', \n",
    "                          'Election Year', 'Election Type', 'City/Township Description']\n",
    "    \n",
    "    df[columns_to_convert] = df[columns_to_convert].astype(str)\n",
    "    df['Precinct Votes'] = df['Precinct Votes'].astype(float)\n",
    "    df['Precinct Votes'] = df['Precinct Votes'].astype(int)\n",
    "    \n",
    "    df['Party Name'] = df['Candidate Party Name'].apply(getPartyName)\n",
    "\n",
    "    print(f'Done.')\n",
    "    \n",
    "    return df"
   ]
  },
  {
   "cell_type": "code",
   "execution_count": null,
   "id": "ca55b295-5d14-4049-b348-9b09484714aa",
   "metadata": {},
   "outputs": [],
   "source": [
    "def aggCandidates(df):\n",
    "    print(f'Aggregating candidate data...')\n",
    "    \n",
    "    columns_to_aggregate = ['Precinct Votes']\n",
    "    grouping_columns = ['standardized_id_num', 'Candidate ID']\n",
    "    \n",
    "    agg_funcs = {col: 'sum' for col in columns_to_aggregate}\n",
    "    \n",
    "    # Use the first value for the same/constant value.\n",
    "    for col in df.columns:\n",
    "        if col not in columns_to_aggregate:\n",
    "            agg_funcs[col] = 'first'\n",
    "    \n",
    "    # Use census ids and not michigan ids.\n",
    "    df = df.groupby(grouping_columns, as_index=False).agg(agg_funcs).reset_index(drop=True)\n",
    "\n",
    "    print(f'Done.')\n",
    "\n",
    "    return df"
   ]
  },
  {
   "cell_type": "code",
   "execution_count": null,
   "id": "be4a6550-c3fa-4d2a-930e-723f8301d029",
   "metadata": {},
   "outputs": [],
   "source": [
    "def aggParties(df):\n",
    "    print(f'Aggregating party data...')\n",
    "    \n",
    "    columns_to_drop = ['Candidate ID', 'Candidate Last Name', 'Candidate First Name', 'Candidate Middle Name']\n",
    "    \n",
    "    df = df.drop(columns=columns_to_drop)\n",
    "    \n",
    "    # Extract unique geometry before pivoting\n",
    "    df_geometry = df[['Michigan County Code', 'City/Township Code', \n",
    "                      'Ward Number', 'Precinct Number', 'geometry']].drop_duplicates()\n",
    "    \n",
    "    # Define index columns **without geometry**\n",
    "    index_columns = ['Michigan County Code', 'City/Township Code',\n",
    "                     'Ward Number', 'Precinct Number', 'Precinct Label', \n",
    "                     'Office Code', 'District Code', 'Status Code', \n",
    "                     'Office Description', 'County Name', 'Census County Code', \n",
    "                     'Election Year', 'Election Type', 'City/Township Description',  \n",
    "                     'standardized_id', 'standardized_id_num']\n",
    "    \n",
    "    # Pivot the data\n",
    "    df = df.pivot_table(index=index_columns, columns='Party Name', values='Precinct Votes', aggfunc='sum').reset_index()\n",
    "    \n",
    "    # Rename columns for clarity\n",
    "    df.columns.name = None  # Remove the multi-index name\n",
    "    df = df.rename(columns={'DEM': 'dem_votes', 'REP': 'rep_votes', 'OTH': 'oth_votes'})\n",
    "    \n",
    "    # NaNs with 0s (if needed)\n",
    "    df = df.fillna(0)\n",
    "    \n",
    "    # Merge back unique geometry\n",
    "    df = df.merge(df_geometry, on=['Michigan County Code', 'City/Township Code', 'Ward Number', 'Precinct Number'], how='left')\n",
    "\n",
    "    # Compute votes\n",
    "    df['total_votes'] = df.apply(lambda row: row['dem_votes'] + row['rep_votes'] + row['oth_votes'], axis=1)\n",
    "\n",
    "    # Drop rows where no voting occurred\n",
    "    df = df[df[\"total_votes\"] != 0]\n",
    "\n",
    "    # Share of vote\n",
    "    df['dem_share'] = df.apply(lambda row: row['dem_votes'] / row['total_votes'], axis=1)\n",
    "    df['rep_share'] = df.apply(lambda row: row['rep_votes'] / row['total_votes'], axis=1)\n",
    "    df['oth_share'] = df.apply(lambda row: row['oth_votes'] / row['total_votes'], axis=1)\n",
    "\n",
    "    # Make one number to gauge partisan temperature.\n",
    "    # Left-wing dems are left of 0 (neg nums). Right-wing reps, right of 0 (pos nums).\n",
    "    df['partisan_temp'] = (-1 * df['dem_share']) + df['rep_share']\n",
    "\n",
    "    print('Done.')\n",
    "\n",
    "    return df"
   ]
  },
  {
   "cell_type": "code",
   "execution_count": null,
   "id": "66cdbd77-30d8-48ed-8d6d-cace20d89499",
   "metadata": {},
   "outputs": [],
   "source": [
    "def calcTurnout(df):\n",
    "    print(f'Calculating turnout...')\n",
    "    \n",
    "    df_registered_voters = pd.read_csv('data/custom_data/registered_voters_count.csv') # these are 2025 numbers though!\n",
    "    df_registered_voters = df_registered_voters.rename(columns={'count': 'registered_voters'})\n",
    "    df = pd.merge(df, df_registered_voters, on=\"standardized_id_num\", how=\"left\")\n",
    "    df['turnout_pct'] = df['total_votes'] / df['registered_voters']\n",
    "\n",
    "    print('Done.')\n",
    "    \n",
    "    return df"
   ]
  },
  {
   "cell_type": "code",
   "execution_count": null,
   "id": "dd1a1435-69f3-416f-ba97-f0926b49c078",
   "metadata": {},
   "outputs": [],
   "source": [
    "def makeFinalElections(YEARS, OFFICES):\n",
    "    print(f'Making new election data...')\n",
    "    \n",
    "    election_dfs = {}\n",
    "    \n",
    "    for year in YEARS:\n",
    "        print(f'Processing year {year}')\n",
    "        \n",
    "        for office in OFFICES:\n",
    "            print(f'Processing office {office}')\n",
    "            \n",
    "            df = loadArcGIS(year, office)\n",
    "            df = aggCandidates(df)\n",
    "            df = aggParties(df)\n",
    "            df = calcTurnout(df)\n",
    "\n",
    "            # Somehow we're getting some duplicate precincts.\n",
    "            df = df.drop_duplicates(subset=['standardized_id_num'], keep='first')\n",
    "    \n",
    "            df = gpd.GeoDataFrame(df, geometry=\"geometry\")\n",
    "            df.to_file('data/generated_data/df_01_election_' + str(year) + '_' + office.replace('.', '').replace(' ', '_') + '.geojson', driver='GeoJSON')\n",
    "    \n",
    "            election_dfs[year] = df\n",
    "            del(df)\n",
    "\n",
    "            print('----------------------------')\n",
    "\n",
    "        print('============================')\n",
    "\n",
    "    print('Done.')\n",
    "    \n",
    "    return election_dfs"
   ]
  },
  {
   "cell_type": "code",
   "execution_count": null,
   "id": "4ba3c7f3-45f9-40dc-b96f-7ebefdba5c43",
   "metadata": {},
   "outputs": [],
   "source": [
    "election_final_dfs = makeFinalElections(YEARS, OFFICES)\n",
    "\n",
    "print(f'Num election dfs: {len(election_final_dfs)}')"
   ]
  },
  {
   "cell_type": "code",
   "execution_count": null,
   "id": "cf9323b6-dd44-46ff-9b28-f93cb9ec3c3a",
   "metadata": {},
   "outputs": [],
   "source": []
  }
 ],
 "metadata": {
  "kernelspec": {
   "display_name": "Python 3 (ipykernel)",
   "language": "python",
   "name": "python3"
  },
  "language_info": {
   "codemirror_mode": {
    "name": "ipython",
    "version": 3
   },
   "file_extension": ".py",
   "mimetype": "text/x-python",
   "name": "python",
   "nbconvert_exporter": "python",
   "pygments_lexer": "ipython3",
   "version": "3.12.7"
  }
 },
 "nbformat": 4,
 "nbformat_minor": 5
}
