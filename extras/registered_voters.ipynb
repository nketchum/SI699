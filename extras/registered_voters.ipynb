{
 "cells": [
  {
   "cell_type": "code",
   "execution_count": null,
   "id": "a2705c8f-0d1f-4a59-a3be-2463f534c41f",
   "metadata": {},
   "outputs": [],
   "source": [
    "import warnings\n",
    "warnings.filterwarnings(\"ignore\")"
   ]
  },
  {
   "cell_type": "code",
   "execution_count": null,
   "id": "fd032d13-53b9-4aa5-a10d-6366a995f8ca",
   "metadata": {},
   "outputs": [],
   "source": [
    "import geopandas as gpd\n",
    "import pandas as pd\n",
    "import numpy as np\n",
    "from tqdm import tqdm"
   ]
  },
  {
   "cell_type": "code",
   "execution_count": null,
   "id": "290ab642-63e7-4f72-a90f-bf6694c6a766",
   "metadata": {},
   "outputs": [],
   "source": [
    "pd.set_option(\"display.max_rows\", None)\n",
    "pd.set_option(\"display.max_columns\", None)"
   ]
  },
  {
   "cell_type": "markdown",
   "id": "276db1da-b2ec-441b-a408-c3b596a0be4b",
   "metadata": {},
   "source": [
    "### Load Registration List"
   ]
  },
  {
   "cell_type": "code",
   "execution_count": null,
   "id": "c61fdd69-c0ff-43a3-8aef-53311844b700",
   "metadata": {},
   "outputs": [],
   "source": [
    "df_registered = pd.read_csv('../data/state_of_michigan_foia/March Entire State Reg List 2025.csv', encoding='ISO-8859-1')\n",
    "df_registered.sample()"
   ]
  },
  {
   "cell_type": "markdown",
   "id": "82f07d66-5816-4bd6-8e33-832cbe96f05b",
   "metadata": {},
   "source": [
    "### Join Census County Codes"
   ]
  },
  {
   "cell_type": "code",
   "execution_count": null,
   "id": "19bbb1b6-7760-4892-9bf8-352a3db3c301",
   "metadata": {},
   "outputs": [],
   "source": [
    "def mapCountyCodes(mich_code):\n",
    "    df_counties = pd.read_csv('../data/custom_data/county_code_mapping.csv')\n",
    "    df_census_code = df_counties[df_counties['Michigan County Code'] == mich_code]\n",
    "    census_code = df_census_code['Census County Code'].values[0]\n",
    "    return census_code"
   ]
  },
  {
   "cell_type": "code",
   "execution_count": null,
   "id": "144af7e8-3618-45ad-83a3-4edb841280bd",
   "metadata": {},
   "outputs": [],
   "source": [
    "# THIS WILL TAKE A VERY LONG TIME.\n",
    "df_registered['WARD'] = df_registered['WARD'].fillna(0)\n",
    "df_registered['WARD'] = df_registered['WARD'].astype(int)\n",
    "\n",
    "df_registered['Census County Code'] = df_registered['COUNTY_CODE'].apply(mapCountyCodes)\n",
    "\n",
    "df_registered['standardized_id_num'] = df_registered.apply(lambda row: str(row['Census County Code']) + str(row['JURISDICTION_CODE']).zfill(5) + str(row['PRECINCT']), axis=1)\n",
    "df_registered['standardized_id_num'] = df_registered['standardized_id_num'].astype(str).str.zfill(13)\n",
    "\n",
    "df_registered.to_csv('../data/custom_data/registered_voters.csv', index=False)"
   ]
  },
  {
   "cell_type": "markdown",
   "id": "aa18b7b6-d230-4d18-81a5-ca644717572c",
   "metadata": {},
   "source": [
    "### Registration Counts per Precinct"
   ]
  },
  {
   "cell_type": "code",
   "execution_count": null,
   "id": "c490db67-56cd-4515-b345-a5ec9b015584",
   "metadata": {},
   "outputs": [],
   "source": [
    "df_unique = df_registered['standardized_id_num'].value_counts().reset_index()\n",
    "df_unique.columns = ['standardized_id_num', 'count']\n",
    "\n",
    "df_unique.to_csv('../data/custom_data/registered_voters_count.csv', index=False)\n",
    "df_unique.head()"
   ]
  },
  {
   "cell_type": "markdown",
   "id": "97784a57-a7c6-4d8d-bebd-5b730f04f7d7",
   "metadata": {},
   "source": [
    "### Load Voter History"
   ]
  },
  {
   "cell_type": "code",
   "execution_count": null,
   "id": "ed27eb5c-867e-4160-8e55-205f5f195328",
   "metadata": {},
   "outputs": [],
   "source": [
    "hist1 = pd.read_csv('../data/state_of_michigan_foia/March Entire State Voter History 2025 Part 1.csv')\n",
    "hist2 = pd.read_csv('../data/state_of_michigan_foia/March Entire State Voter History 2025 Part 2.csv')"
   ]
  },
  {
   "cell_type": "markdown",
   "id": "6d22c5eb-607c-4454-a266-4c61031a7346",
   "metadata": {},
   "source": [
    "### Join Registration List and Voter History"
   ]
  },
  {
   "cell_type": "code",
   "execution_count": null,
   "id": "48960fe5-6edd-43fd-8501-c3b492879edb",
   "metadata": {},
   "outputs": [],
   "source": [
    "overlap_cols = df_registered.columns.intersection(hist1.columns).difference(['VOTER_IDENTIFICATION_NUMBER'])  # keep 'id' for merging\n",
    "\n",
    "hist1 = hist1.drop(columns=overlap_cols)\n",
    "hist1 = pd.merge(hist1, df_registered, on='VOTER_IDENTIFICATION_NUMBER', how='inner')"
   ]
  },
  {
   "cell_type": "code",
   "execution_count": null,
   "id": "6a62b81a-3e84-45f5-8c79-b2e394b0b06a",
   "metadata": {},
   "outputs": [],
   "source": [
    "overlap_cols = df_registered.columns.intersection(hist2.columns).difference(['VOTER_IDENTIFICATION_NUMBER'])  # keep 'id' for merging\n",
    "\n",
    "hist2 = hist2.drop(columns=overlap_cols)\n",
    "hist2 = pd.merge(hist2, df_registered, on='VOTER_IDENTIFICATION_NUMBER', how='inner')\n",
    "\n",
    "hist2 = hist2.loc[:, ~hist2.columns.duplicated()]"
   ]
  },
  {
   "cell_type": "code",
   "execution_count": null,
   "id": "fd80b488-8554-4689-8d06-4b32be71a030",
   "metadata": {},
   "outputs": [],
   "source": [
    "df_registration_history = pd.concat([hist1, hist2], axis=0)\n",
    "df_registration_history = df_registration_history.drop(columns=['Unnamed: 8'])"
   ]
  },
  {
   "cell_type": "code",
   "execution_count": null,
   "id": "e7cc7cf6-a1bc-4368-927d-ccd50da69c51",
   "metadata": {},
   "outputs": [],
   "source": [
    "# df_registration_history.to_csv('../data/custom_data/df_registration_history.csv', index=False)"
   ]
  },
  {
   "cell_type": "markdown",
   "id": "f2f4a2f9-4b54-4b9d-aeb7-5b166424d919",
   "metadata": {},
   "source": [
    "### Features"
   ]
  },
  {
   "cell_type": "code",
   "execution_count": null,
   "id": "d78244a6-d3ec-425c-94c8-45e59d537894",
   "metadata": {},
   "outputs": [],
   "source": [
    "# df_registration_history['ELECTION_YEAR'] = df_registration_history['ELECTION_DATE'].apply(lambda x: x[:4])\n",
    "# df_registration_history['ELECTION_MONTH'] = df_registration_history['ELECTION_DATE'].apply(lambda x: x[5:7])\n",
    "# df_registration_history['ELECTION_DAY'] = df_registration_history['ELECTION_DATE'].apply(lambda x: x[8:10])"
   ]
  },
  {
   "cell_type": "code",
   "execution_count": null,
   "id": "9ad09968-7f66-4cca-b077-8773a97fd603",
   "metadata": {},
   "outputs": [],
   "source": [
    "# df_registration_history[(df_registration_history['LAST_NAME'] == 'KETCHUM') & (df_registration_history['FIRST_NAME'] == 'NICHOLAS') & (df_registration_history['MIDDLE_NAME'] == 'RYAN')]"
   ]
  },
  {
   "cell_type": "code",
   "execution_count": null,
   "id": "679952ff-a417-4a60-b44b-7106d70d81c0",
   "metadata": {},
   "outputs": [],
   "source": [
    "cols_to_keep = [\n",
    "    'YEAR_OF_BIRTH', 'GENDER', 'REGISTRATION_DATE', 'ZIP_CODE', 'VOTER_IDENTIFICATION_NUMBER', \n",
    "    'COUNTY_CODE', 'JURISDICTION_CODE', 'JURISDICTION_NAME', 'IS_PERM_AV_BALLOT_VOTER', \n",
    "    'VOTER_STATUS_TYPE_CODE', 'UOCAVA_STATUS_CODE', 'IS_PERM_AV_APP_VOTER', \n",
    "    'Census County Code', 'standardized_id_num'\n",
    "]\n",
    "\n",
    "df_registered = pd.read_csv('../data/custom_data/registered_voters.csv')\n",
    "df_registered = df_registered[cols_to_keep]\n",
    "\n",
    "df_registered.to_csv('df_registered.csv', index=False)\n",
    "print(f'Num rows: {len(df_registered)}')\n",
    "df_registered.sample()"
   ]
  },
  {
   "cell_type": "code",
   "execution_count": null,
   "id": "eae61d28-defb-4a9c-a121-a4e5b154f414",
   "metadata": {},
   "outputs": [],
   "source": [
    "# Load huge df by chunking\n",
    "filename = '../data/custom_data/df_registration_history.csv'\n",
    "chunksize = 100000\n",
    "\n",
    "# Set bar length via line count\n",
    "with open(filename, 'r') as f:\n",
    "    total_lines = sum(1 for line in f)\n",
    "\n",
    "dfs = []\n",
    "for chunk in tqdm(pd.read_csv(filename, chunksize=chunksize), total=total_lines // chunksize):\n",
    "    dfs.append(chunk)\n",
    "\n",
    "df_registration_history = pd.concat(dfs, ignore_index=True)\n",
    "\n",
    "print(f'Row count: {len(df_registration_history)}')"
   ]
  },
  {
   "cell_type": "code",
   "execution_count": null,
   "id": "89aad6fd-a0d8-40ae-b1ab-ee93a5fbf3f1",
   "metadata": {},
   "outputs": [],
   "source": [
    "df_registration_history_filename = '../data/custom_data/df_registration_history.csv'\n",
    "chunksize = 100_000\n",
    "merged_chunks = []\n",
    "\n",
    "# Calc progress bar size\n",
    "with open(df_registration_history_filename, 'r') as f:\n",
    "    total_lines = sum(1 for _ in f) - 1\n",
    "\n",
    "# Create df from chunks\n",
    "with tqdm(total=total_lines // chunksize + 1) as pbar:\n",
    "    for chunk in pd.read_csv(df_registration_history_filename, chunksize=chunksize):\n",
    "        merged = chunk.merge(df_registered, on='VOTER_IDENTIFICATION_NUMBER', how='inner')\n",
    "        merged_chunks.append(merged)\n",
    "        pbar.update(1)\n",
    "\n",
    "df_merged = pd.concat(merged_chunks, ignore_index=True)\n",
    "\n",
    "print(f'Shape: {df_merged.shape}')\n",
    "print(f'Columns: {df_merged.columns}')\n",
    "print(f'Row count: {len(df_merged)}')\n",
    "\n",
    "print(f'Row count: {len(df_registration_history)}')"
   ]
  },
  {
   "cell_type": "code",
   "execution_count": null,
   "id": "a6e07ec4-6c15-49c5-80fd-3ec8087d979e",
   "metadata": {},
   "outputs": [],
   "source": []
  }
 ],
 "metadata": {
  "kernelspec": {
   "display_name": "Python 3 (ipykernel)",
   "language": "python",
   "name": "python3"
  },
  "language_info": {
   "codemirror_mode": {
    "name": "ipython",
    "version": 3
   },
   "file_extension": ".py",
   "mimetype": "text/x-python",
   "name": "python",
   "nbconvert_exporter": "python",
   "pygments_lexer": "ipython3",
   "version": "3.12.7"
  }
 },
 "nbformat": 4,
 "nbformat_minor": 5
}
