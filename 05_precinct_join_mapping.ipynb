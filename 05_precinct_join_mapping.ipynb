{
 "cells": [
  {
   "cell_type": "code",
   "execution_count": null,
   "id": "4ae98b09-c57b-423a-8ab9-ae933fb255fb",
   "metadata": {},
   "outputs": [],
   "source": [
    "# President: 2016 (Trump), 2020 (Biden), 2024 (Trump)\n",
    "# U.S. Senate: 2014 (Peters), 2018 (Stabenow), 2020 (Peters), 2024 (Slotkin)\n",
    "# U.S. House: every cycle\n",
    "# State Senate: 2014, 2018, 2022\n",
    "# State House: every cycle\n",
    "\n",
    "ELECTIONS = {}\n",
    "\n",
    "ELECTIONS['U.S. House'] =   ['2014', '2016', '2018', '2020', '2022', '2024']\n",
    "ELECTIONS['State House'] =  ['2014', '2016', '2018', '2020', '2022', '2024']\n",
    "ELECTIONS['U.S. Senate'] =  ['2014', '2018', '2020', '2024']\n",
    "ELECTIONS['State Senate'] = ['2014', '2018', '2022']\n",
    "ELECTIONS['President'] =    ['2016', '2020', '2024']"
   ]
  },
  {
   "cell_type": "code",
   "execution_count": null,
   "id": "07ed324b-e0b4-464d-8784-07f0e0dbb7e2",
   "metadata": {},
   "outputs": [],
   "source": [
    "import geopandas as gpd\n",
    "import pandas as pd\n",
    "import numpy as np"
   ]
  },
  {
   "cell_type": "code",
   "execution_count": null,
   "id": "34137b73-0aa4-4189-8450-4d5f5a1f4099",
   "metadata": {},
   "outputs": [],
   "source": [
    "import warnings\n",
    "warnings.filterwarnings(\"ignore\")"
   ]
  },
  {
   "cell_type": "code",
   "execution_count": null,
   "id": "8c3cc5e3-6245-4739-bfb5-aeaf06b762ff",
   "metadata": {},
   "outputs": [],
   "source": [
    "pd.set_option(\"display.max_columns\", None)"
   ]
  },
  {
   "cell_type": "code",
   "execution_count": null,
   "id": "902255cb-f7d5-402d-8f7b-2a32e4ad10b7",
   "metadata": {},
   "outputs": [],
   "source": [
    "print(f'Num. of offices to process: {len(ELECTIONS)}')\n",
    "\n",
    "for key, value in ELECTIONS.items():\n",
    "    OFFICES = [key]\n",
    "    YEARS = value\n",
    "\n",
    "    print(f'Process office(s): {key} for year(s): {', '.join(YEARS)}')\n",
    "\n",
    "    for year in YEARS:\n",
    "        print(f'Processing year {year}')\n",
    "        \n",
    "        for office in OFFICES:\n",
    "            print(f'Processing office {office}')\n",
    "            \n",
    "            df_precinct_nearest_school = pd.read_csv('data/generated_data/df_04_bound_nearest_school_district_' + str(year) + '_' + office.replace('.', '').replace(' ', '_') + '.csv')\n",
    "            df_precinct_nearest_tract = pd.read_csv('data/generated_data/df_04_bound_nearest_census_tract_' + str(year) + '_' + office.replace('.', '').replace(' ', '_') + '.csv')\n",
    "            df_precinct_nearest_zipcode = pd.read_csv('data/generated_data/df_04_bound_nearest_zipcode_' + str(year) + '_' + office.replace('.', '').replace(' ', '_') + '.csv')\n",
    "            \n",
    "            ''' \n",
    "            Open Elections data.\n",
    "            Precinct-level voting outcomes per election cycle.\n",
    "            This dataset and corresponding precinct shape files form the core of data in this project.\n",
    "            '''\n",
    "            df_precinct_mapped = gpd.read_file('data/generated_data/df_02_vote_changes_calc_' + str(year) + '_' + office.replace('.', '').replace(' ', '_') + '.geojson', driver='GeoJSON')\n",
    "            \n",
    "            from functools import reduce\n",
    "            dfs_to_merge = [df_precinct_mapped, df_precinct_nearest_school, df_precinct_nearest_tract, df_precinct_nearest_zipcode]\n",
    "            \n",
    "            for df in dfs_to_merge:\n",
    "                df['standardized_id_num'] = df['standardized_id_num'].astype(str).str.zfill(13)\n",
    "            \n",
    "            df_precinct_mapped_merged = reduce(lambda left, right: pd.merge(left, right, on='standardized_id_num', how='left'), dfs_to_merge)\n",
    "            df_precinct_mapped_merged.to_file('data/generated_data/df_05_precinct_mapped_merged_' + str(year) + '_' + office.replace('.', '').replace(' ', '_') + '.geojson', driver='GeoJSON')"
   ]
  },
  {
   "cell_type": "code",
   "execution_count": null,
   "id": "607f93a1-eaa6-46db-b0a0-7db89d45f144",
   "metadata": {},
   "outputs": [],
   "source": []
  }
 ],
 "metadata": {
  "kernelspec": {
   "display_name": "Python 3 (ipykernel)",
   "language": "python",
   "name": "python3"
  },
  "language_info": {
   "codemirror_mode": {
    "name": "ipython",
    "version": 3
   },
   "file_extension": ".py",
   "mimetype": "text/x-python",
   "name": "python",
   "nbconvert_exporter": "python",
   "pygments_lexer": "ipython3",
   "version": "3.12.7"
  }
 },
 "nbformat": 4,
 "nbformat_minor": 5
}
