{
 "cells": [
  {
   "cell_type": "code",
   "execution_count": null,
   "id": "024a6371-2d6d-439a-a879-60de4a0c2642",
   "metadata": {},
   "outputs": [],
   "source": [
    "import pandas as pd\n",
    "import glob\n",
    "import os\n",
    "\n",
    "def makeCensusFeatureLabels(feature_name, year):\n",
    "    # We need to find the directory by only knowing the first part\n",
    "    # of the name, which is the census id/code.\n",
    "    \n",
    "    if year == 2024: # No 2024 data yet.\n",
    "        year = 2023\n",
    "    \n",
    "    partial_dir = feature_name[:5].lower()\n",
    "    base_path = 'data/census/'\n",
    "    \n",
    "    matching_dir = glob.glob(os.path.join(base_path, partial_dir + '*'))\n",
    "    \n",
    "    if matching_dir:\n",
    "        target_dir = matching_dir[0]\n",
    "        file_path = os.path.join(target_dir, f'ACSST5Y{year}.{feature_name[:5]}-Column-Metadata.csv')\n",
    "\n",
    "        df_columns = pd.read_csv(file_path)\n",
    "\n",
    "        label = df_columns[df_columns['Column Name'] == feature_name].values[0][1]\n",
    "\n",
    "        parts = label.split('!!') # Chars before third-to-last pair of exclamation points.\n",
    "        short_label = '!!'.join(parts[-3:])\n",
    "        \n",
    "        feature_label = f'{feature_name} | {short_label}'\n",
    "\n",
    "        return feature_label"
   ]
  },
  {
   "cell_type": "code",
   "execution_count": null,
   "id": "7ee299a8-284d-4372-b7df-61fc6d9d6927",
   "metadata": {},
   "outputs": [],
   "source": [
    "makeCensusFeatureLabels('S2301_C01_017E', 2018)"
   ]
  },
  {
   "cell_type": "code",
   "execution_count": null,
   "id": "f0212f1c-3c02-4a95-8353-32248307f396",
   "metadata": {},
   "outputs": [],
   "source": []
  }
 ],
 "metadata": {
  "kernelspec": {
   "display_name": "Python 3 (ipykernel)",
   "language": "python",
   "name": "python3"
  },
  "language_info": {
   "codemirror_mode": {
    "name": "ipython",
    "version": 3
   },
   "file_extension": ".py",
   "mimetype": "text/x-python",
   "name": "python",
   "nbconvert_exporter": "python",
   "pygments_lexer": "ipython3",
   "version": "3.12.2"
  }
 },
 "nbformat": 4,
 "nbformat_minor": 5
}
