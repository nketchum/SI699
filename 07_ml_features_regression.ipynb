{
 "cells": [
  {
   "cell_type": "code",
   "execution_count": null,
   "id": "b6c3398b-028f-4299-92e8-d4ff4292ecff",
   "metadata": {},
   "outputs": [],
   "source": [
    "from sklearn.linear_model import LinearRegression\n",
    "from sklearn.model_selection import train_test_split\n",
    "from sklearn.preprocessing import OneHotEncoder, StandardScaler\n",
    "from sklearn.compose import ColumnTransformer\n",
    "from sklearn.pipeline import Pipeline\n",
    "from sklearn.metrics import mean_squared_error\n",
    "import numpy as np\n",
    "import pandas as pd\n",
    "import geopandas as gpd\n",
    "from functools import reduce"
   ]
  },
  {
   "cell_type": "code",
   "execution_count": null,
   "id": "f18dd8cd-43ef-4c3c-bd8b-b56a35c83763",
   "metadata": {},
   "outputs": [],
   "source": [
    "pd.set_option(\"display.max_columns\", None)"
   ]
  },
  {
   "cell_type": "code",
   "execution_count": null,
   "id": "d24eb905-116b-482d-bfbe-795dec4cc249",
   "metadata": {},
   "outputs": [],
   "source": [
    "YEARS = ['2022']\n",
    "OFFICES = ['US_House']"
   ]
  },
  {
   "cell_type": "code",
   "execution_count": null,
   "id": "3d37a04a-8a5a-4aac-9255-1616addf0470",
   "metadata": {},
   "outputs": [],
   "source": [
    "census_datasets = [\n",
    "    'b02001_race', 'b04007_ancestry', 'b05012_nativity_us', 'b08303_travel_time_work', \n",
    "    'b25003_housing_rentership', 'dp04_housing_characteristics', 'dp05_age_race', 's0101_age_sex', \n",
    "    's1101_households_families', 's1201_marital_status', 's1501_educational_attainment', 's1701_income_poverty', \n",
    "    's1903_median_income', 's2101_veteran_status', 's2201_food_stamps', 's2301_employment_status', \n",
    "    's2401_occupation_sex', 's2403_industry_sex', 's2501_occupancy_characteristics', \n",
    "    's2503_financial_characteristics', 's2701_health_insurance',\n",
    "]\n",
    "\n",
    "def calcPartisanChange(row):\n",
    "    change = row[\"rep_share_change\"] - row[\"dem_share_change\"]\n",
    "    return change\n",
    "\n",
    "for year in YEARS:\n",
    "    print(f'Processing year {year}')\n",
    "    \n",
    "    for office in OFFICES:\n",
    "        print(f'Processing office {office}')\n",
    "        \n",
    "        df_precincts = pd.read_csv('data/generated_data/df_06_tract_' + year + '_' + office + '.csv')\n",
    "        df_precincts['standardized_id_num'] = df_precincts['standardized_id_num'].astype(str).str.zfill(13)\n",
    "\n",
    "        print(f'Loading census data')\n",
    "        census_dataset_dfs = []\n",
    "        for census_dataset in census_datasets:\n",
    "            census_dataset = census_dataset.lower()\n",
    "            if census_dataset[:1] == 's':\n",
    "                census_dataset_code = census_dataset[:5].upper()\n",
    "                census_dataset_label = census_dataset[6:]\n",
    "            elif census_dataset[:1] == 'b':\n",
    "                census_dataset_code = census_dataset[:6].upper()\n",
    "                census_dataset_label = census_dataset[7:]\n",
    "            \n",
    "            df_census_dataset = pd.read_csv(f'data/generated_data/df_06_{census_dataset_label}_' + year + '_' + office + '.csv')\n",
    "            df_census_dataset.rename(columns={f'geoid_{census_dataset_label}': 'geoidfq_tract'}, inplace=True)\n",
    "            \n",
    "            census_dataset_dfs.append(df_census_dataset)\n",
    "\n",
    "        dfs = [df_precincts]\n",
    "        dfs.extend(census_dataset_dfs)\n",
    "        \n",
    "        df = reduce(lambda left, right: pd.merge(left, right, on='geoidfq_tract', how='left'), dfs)\n",
    "        df['standardized_id_num'] = df['standardized_id_num'].astype(str).str.zfill(13)\n",
    "\n",
    "        drop_cols = [\n",
    "            \"City/Township Description\", \"District Code\", \"Election Type\",\n",
    "            \"Michigan County Code\",\n",
    "            \"Office Description\", \"Precinct Label\", \"Status Code\",\n",
    "            \"County Name\", \"Precinct Number\", \"Election Year\",\n",
    "            \"total_votes\", \"registered_voters\", \"turnout_pct\",\n",
    "            \"nearest_bound_census_tract\", \"nearest_bound_school_district\", \"nearest_bound_zipcode\",\n",
    "            \"Office Code\", \"Census County Code\",\n",
    "            \"City/Township Code\", \"Ward Number\",\n",
    "            \"county\", \"office\", \"electionye\",\n",
    "            \"registered_voters_change\",\n",
    "            \"dem_votes\", \"rep_votes\", \"oth_votes\",\n",
    "            \"dem_share\", \"rep_share\", \"oth_share\",\n",
    "            \"locale_full\", \"objectid\", \"precinct_num\", \"precinct_wp_id\",\n",
    "            \"standardized_id\", \"geometry\", \"geometry_tract\", \"geoidfq_tract\", \"name_tract\",\n",
    "            \"subdivision_fips\", \"ward_num\", \"locale_full\", \"county_fips\", \"objectid\", \"precinct_num\",\n",
    "            \"nearest_tract\", \"awater_tract\", \"aland_tract\", \"tractce_tract\", \"shapestarea\", \"shapestlength\", \"geoid_tract\",\n",
    "        ]\n",
    "        df = df.drop(columns=drop_cols, errors='ignore')\n",
    "        \n",
    "        string_columns = [\"standardized_id_num\"]\n",
    "        string_df = df[string_columns]\n",
    "\n",
    "        # Force numeric\n",
    "        numeric_df = df.drop(columns=string_columns, errors='ignore')\n",
    "        numeric_df = numeric_df.apply(pd.to_numeric, errors='coerce')\n",
    "        numeric_df = numeric_df.fillna(numeric_df.median())\n",
    "        \n",
    "        df = pd.concat([string_df, numeric_df], axis=1)\n",
    "\n",
    "        df['standardized_id_num'] = df['standardized_id_num'].astype(str).str.zfill(13)\n",
    "\n",
    "        df[\"partisanship_change_amount\"] = df.apply(lambda row: calcPartisanChange(row), axis=1)\n",
    "\n",
    "print('DONE')"
   ]
  },
  {
   "cell_type": "code",
   "execution_count": null,
   "id": "7383cd7f-003a-43c8-8cfa-ffefa0b55f8d",
   "metadata": {},
   "outputs": [],
   "source": [
    "# Target and features\n",
    "y = df[['partisanship_change_amount']]\n",
    "X = df.drop(columns=['standardized_id_num', 'partisanship_change_amount'])\n",
    "\n",
    "# Drop all-nan columns\n",
    "X = X.dropna(axis=1, how='all')\n",
    "\n",
    "# These confound results\n",
    "X = X.drop(columns=[\n",
    "    'dem_share_prev', 'rep_share_prev', 'oth_share_prev', \n",
    "    'dem_votes_change', 'rep_votes_change', 'oth_votes_change', \n",
    "    'turnout_pct_change'\n",
    "])\n",
    "\n",
    "X.sample(3)"
   ]
  },
  {
   "cell_type": "code",
   "execution_count": null,
   "id": "c7bae527-8aee-4378-bf2c-ba2802330725",
   "metadata": {},
   "outputs": [],
   "source": [
    "from sklearn.impute import SimpleImputer\n",
    "\n",
    "categorical_cols = X.select_dtypes(include=['object']).columns.tolist()\n",
    "numeric_cols = X.select_dtypes(include=['number']).columns.tolist()\n",
    "\n",
    "categorical_transformer = Pipeline(steps=[\n",
    "    ('imputer', SimpleImputer(strategy='most_frequent')),\n",
    "])\n",
    "\n",
    "numeric_transformer = Pipeline(steps=[\n",
    "    ('imputer', SimpleImputer(strategy='mean')),  # or 'median'\n",
    "    ('scaler', StandardScaler())\n",
    "])\n",
    "\n",
    "preprocessor = ColumnTransformer(transformers=[\n",
    "    ('cat', categorical_transformer, categorical_cols),\n",
    "    ('num', numeric_transformer, numeric_cols)\n",
    "])\n",
    "\n",
    "model = Pipeline(steps=[\n",
    "    ('preprocessor', preprocessor),\n",
    "    ('regressor', LinearRegression())\n",
    "])\n",
    "\n",
    "X_train, X_test, y_train, y_test = train_test_split(X, y, test_size=0.2, random_state=42)\n",
    "model.fit(X_train, y_train)\n",
    "y_pred = model.predict(X_test)\n",
    "\n",
    "mse = mean_squared_error(y_test, y_pred)\n",
    "print(\"Mean Squared Error:\", mse)"
   ]
  },
  {
   "cell_type": "code",
   "execution_count": null,
   "id": "4b51f4aa-cead-4fb6-8cb3-f67f6488d145",
   "metadata": {},
   "outputs": [],
   "source": [
    "import matplotlib.pyplot as plt\n",
    "\n",
    "plt.scatter(y_test, y_pred)\n",
    "plt.xlabel(\"True Values\")\n",
    "plt.ylabel(\"Predicted Values\")\n",
    "plt.title(\"Prediction Accuracy\")\n",
    "plt.grid(True)\n",
    "plt.show()"
   ]
  },
  {
   "cell_type": "markdown",
   "id": "764a496d-b4da-41f6-981f-df09e9b4dec9",
   "metadata": {},
   "source": [
    "### Feature analysis"
   ]
  },
  {
   "cell_type": "code",
   "execution_count": null,
   "id": "bb3d308f-05cf-46d1-94b4-7ac2b6f63b68",
   "metadata": {},
   "outputs": [],
   "source": [
    "top_n = 25"
   ]
  },
  {
   "cell_type": "code",
   "execution_count": null,
   "id": "c79d14e7-5510-4d5a-932e-58bda6b2dbb6",
   "metadata": {},
   "outputs": [],
   "source": [
    "sort_column = 'coefficient' # ordered by good predictive power\n",
    "\n",
    "coefficients = model.named_steps['regressor'].coef_.flatten()\n",
    "feature_names = numeric_cols\n",
    "\n",
    "coef_df = pd.DataFrame({\n",
    "    'feature': feature_names,\n",
    "    'coefficient': coefficients,\n",
    "    'abs_coefficient': np.abs(coefficients)\n",
    "}).sort_values(by=sort_column, ascending=False)\n",
    "\n",
    "top_features = coef_df[coef_df['coefficient'] > 0].sort_values(by='coefficient', ascending=False).head(top_n)\n",
    "print(top_features)"
   ]
  },
  {
   "cell_type": "code",
   "execution_count": null,
   "id": "9afd7844-0fad-4aaf-a6bd-3f172b4967bd",
   "metadata": {},
   "outputs": [],
   "source": [
    "plt.figure(figsize=(12, 7))\n",
    "bars = plt.barh(top_features['feature'], top_features['coefficient'])\n",
    "plt.xlabel('Coefficient Value')\n",
    "plt.title(f'Top {top_n} Most Influential Features (Linear Regression)')\n",
    "plt.axvline(x=0, color='gray', linestyle='--')\n",
    "plt.grid(True, axis='x', linestyle=':', alpha=0.7)\n",
    "plt.gca().invert_yaxis()\n",
    "plt.tight_layout()\n",
    "plt.show()"
   ]
  },
  {
   "cell_type": "markdown",
   "id": "aa9beb1b-c5a0-4485-bf8c-bc0a243c06f0",
   "metadata": {},
   "source": [
    "### Predict all data"
   ]
  },
  {
   "cell_type": "code",
   "execution_count": null,
   "id": "07c5bb78-bd78-4df2-a7e8-aada83a8d0d6",
   "metadata": {},
   "outputs": [],
   "source": [
    "model.fit(X, y)\n",
    "y_pred_all = model.predict(X)\n",
    "\n",
    "mse = mean_squared_error(y, y_pred_all)\n",
    "print(\"Mean Squared Error:\", mse)"
   ]
  },
  {
   "cell_type": "code",
   "execution_count": null,
   "id": "738653f2-c2ab-4cbc-991a-90cd58861386",
   "metadata": {},
   "outputs": [],
   "source": [
    "import matplotlib.pyplot as plt\n",
    "\n",
    "plt.scatter(y, y_pred_all)\n",
    "plt.xlabel(\"True Values\")\n",
    "plt.ylabel(\"Predicted Values\")\n",
    "plt.title(\"Prediction Accuracy\")\n",
    "plt.grid(True)\n",
    "plt.show()"
   ]
  },
  {
   "cell_type": "code",
   "execution_count": null,
   "id": "7a448d5e-1270-4523-b5e7-d2115232b9e1",
   "metadata": {},
   "outputs": [],
   "source": []
  }
 ],
 "metadata": {
  "kernelspec": {
   "display_name": "Python 3 (ipykernel)",
   "language": "python",
   "name": "python3"
  },
  "language_info": {
   "codemirror_mode": {
    "name": "ipython",
    "version": 3
   },
   "file_extension": ".py",
   "mimetype": "text/x-python",
   "name": "python",
   "nbconvert_exporter": "python",
   "pygments_lexer": "ipython3",
   "version": "3.12.7"
  }
 },
 "nbformat": 4,
 "nbformat_minor": 5
}
