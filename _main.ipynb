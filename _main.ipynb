{
 "cells": [
  {
   "cell_type": "code",
   "execution_count": null,
   "id": "1f4ace1f-6cbf-4c35-82df-5cc4d5334a15",
   "metadata": {},
   "outputs": [],
   "source": [
    "import subprocess\n",
    "import os\n",
    "\n",
    "scripts = [\n",
    "    '00_election_data_sos.py', '01_election_data_sos.py', '01b_election_data_openelections.py',\n",
    "    '02_vote_changes.py', '03_precinct_results_plot.py', '04_bounds_mapping.py', '05_precinct_join_mapping.py',\n",
    "    '06_tract_data.ipynb', '07a_ml_features\n",
    "]\n",
    "\n",
    "for script in scripts:\n",
    "    script_path = os.path.join(os.path.dirname(__file__), script)\n",
    "    print(f\"Running {script}...\")\n",
    "    subprocess.run(['python', script_path], check=True)\n",
    "\n",
    "\n",
    "import os\n",
    "import subprocess\n",
    "\n",
    "scripts = [\n",
    "    '00_election_data_sos.py', '01_election_data_sos.py', '01b_election_data_openelections.py',\n",
    "    '02_vote_changes.py', '03_precinct_results_plot.py', '04_bounds_mapping.py', '05_precinct_join_mapping.py',\n",
    "    '06_tract_data.ipynb', '07a_ml_features\n",
    "]\n",
    "\n",
    "for script in scripts:\n",
    "    script_path = os.path.join(os.path.dirname(__file__), script)\n",
    "    \n",
    "    print(f\"Running {script_path}...\")\n",
    "    result = subprocess.run([\"python\", script_path], capture_output=True, text=True)\n",
    "\n",
    "    print(f\"Finished {script} with return code {result.returncode}\")\n",
    "    print(result.stdout)\n",
    "\n",
    "    if result.stderr:\n",
    "        print(\"Error output:\", result.stderr)\n",
    "\n",
    "    # Optional: Stop the loop if a script fails\n",
    "    if result.returncode != 0:\n",
    "        print(f\"{script} failed. Halting further execution.\")\n",
    "        break"
   ]
  }
 ],
 "metadata": {
  "kernelspec": {
   "display_name": "Python 3 (ipykernel)",
   "language": "python",
   "name": "python3"
  },
  "language_info": {
   "codemirror_mode": {
    "name": "ipython",
    "version": 3
   },
   "file_extension": ".py",
   "mimetype": "text/x-python",
   "name": "python",
   "nbconvert_exporter": "python",
   "pygments_lexer": "ipython3",
   "version": "3.12.7"
  }
 },
 "nbformat": 4,
 "nbformat_minor": 5
}
