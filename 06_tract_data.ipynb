{
 "cells": [
  {
   "cell_type": "code",
   "execution_count": null,
   "id": "1972211c-66a6-4868-8e01-12ac0e927314",
   "metadata": {},
   "outputs": [],
   "source": [
    "# President: 2016 (Trump), 2020 (Biden), 2024 (Trump)\n",
    "# Governor: 2018 (Whitmer), 2022 (Whitmer)\n",
    "# Secretary of State: 2018 (Benson), 2022 (Benson)\n",
    "# Attorney General: 2018 (Nessel), 2022 (Nessel)\n",
    "# U.S. Senate: 2014 (Peters), 2018 (Stabenow), 2020 (Peters), 2024 (Slotkin)\n",
    "# U.S. House: every cycle\n",
    "# State Senate: 2014, 2018, 2022\n",
    "# State House: every cycle\n",
    "\n",
    "OFFICES = ['U.S. House']\n",
    "# OFFICES = ['U.S. House', 'State House']\n",
    "YEARS = ['2014', '2016', '2018', '2020', '2022', '2024']\n",
    "\n",
    "# OFFICES = ['U.S. Senate']\n",
    "# YEARS = ['2014', '2018', '2020', '2024']\n",
    "\n",
    "# OFFICES = ['State Senate']\n",
    "# YEARS = ['2014', '2018', '2022']\n",
    "\n",
    "# OFFICES = ['President']\n",
    "# YEARS = ['2016', '2020', '2024']\n",
    "\n",
    "# Not enough data\n",
    "# # OFFICES = ['Governor', 'Secretary of State', 'Attorney General']\n",
    "# # YEARS = ['2018', '2022']"
   ]
  },
  {
   "cell_type": "markdown",
   "id": "f74318f4-3cfc-4dfa-a888-3ec20f20d6b0",
   "metadata": {},
   "source": [
    "If the year is 2024, use 2023 data since 2024 data is not yet available. That is why reading files with years uses this <code>str(YEAR if YEAR != 2024 else 2023)</code> so that 2024 year reads filenames with \"2023\"."
   ]
  },
  {
   "cell_type": "code",
   "execution_count": null,
   "id": "8242cebf-9a0c-484b-a7f6-4eacfd8ba339",
   "metadata": {},
   "outputs": [],
   "source": [
    "import warnings\n",
    "warnings.filterwarnings(\"ignore\")"
   ]
  },
  {
   "cell_type": "code",
   "execution_count": null,
   "id": "7d815948-2893-40f5-96db-b6e18626bdcc",
   "metadata": {},
   "outputs": [],
   "source": [
    "import geopandas as gpd\n",
    "import pandas as pd\n",
    "import matplotlib.pyplot as plt\n",
    "import numpy as np"
   ]
  },
  {
   "cell_type": "code",
   "execution_count": null,
   "id": "6b23f056-3bfe-4f98-91b8-e34aec4d6b72",
   "metadata": {},
   "outputs": [],
   "source": [
    "pd.set_option(\"display.max_columns\", None)"
   ]
  },
  {
   "cell_type": "markdown",
   "id": "5d22e744-02fd-49da-91a4-8d2e12844748",
   "metadata": {},
   "source": [
    "### Join tract data to precinct results"
   ]
  },
  {
   "cell_type": "code",
   "execution_count": null,
   "id": "d7cef099-6d03-4582-bdae-c2dbd9d3d078",
   "metadata": {},
   "outputs": [],
   "source": [
    "for year in YEARS:\n",
    "    for office in OFFICES:\n",
    "        df_precinct_results_mapped = gpd.read_file('data/generated_data/df_05_precinct_mapped_merged_' + year + '_' + office.replace('.', '').replace(' ', '_') + '.geojson', driver='GeoJSON')\n",
    "        df_precinct_results_mapped['nearest_bound_census_tract'] = df_precinct_results_mapped['nearest_bound_census_tract'].apply(lambda x: str(x)[:-2]) # Cast as string and remove the decimal\n",
    "        \n",
    "        # If year is 2024, use 2023 data since 2024 has no data yet.\n",
    "        if year == '2024':\n",
    "            census_year = '2023'\n",
    "        else:\n",
    "            census_year = year\n",
    "        \n",
    "        df_census_tracts = gpd.read_file('data/census/tracts/cb_' + census_year + '_26_tract_500k/cb_' + census_year + '_26_tract_500k.shp')\n",
    "        \n",
    "        df_census_tracts.columns = df_census_tracts.columns.str.lower()\n",
    "        df_census_tracts['geoid'] = df_census_tracts['geoid'].astype(str)\n",
    "        \n",
    "        if int(year) >= 2023:\n",
    "            # IF YEAR >= 2023 geoidfq\n",
    "            df_census_tracts.rename(columns={'tractce': 'tractce_tract', 'geoid': 'geoid_tract', 'geoidfq': 'geoidfq_tract', 'name': 'name_tract', 'aland': 'aland_tract', 'awater': 'awater_tract', 'geometry': 'geometry_tract'}, inplace=True)\n",
    "            df_census_tracts = df_census_tracts[['tractce_tract', 'geoid_tract', 'geoidfq_tract', 'name_tract', 'aland_tract', 'awater_tract', 'geometry_tract']]\n",
    "        else:\n",
    "            # IF YEAR < 2023 affgeoid\n",
    "            df_census_tracts.rename(columns={'tractce': 'tractce_tract', 'geoid': 'geoid_tract', 'affgeoid': 'geoidfq_tract', 'name': 'name_tract', 'aland': 'aland_tract', 'awater': 'awater_tract', 'geometry': 'geometry_tract'}, inplace=True)\n",
    "            df_census_tracts = df_census_tracts[['tractce_tract', 'geoid_tract', 'geoidfq_tract', 'name_tract', 'aland_tract', 'awater_tract', 'geometry_tract']]\n",
    "\n",
    "        df_precinct_results_mapped['nearest_bound_census_tract'] = df_precinct_results_mapped['nearest_bound_census_tract'].str.ljust(11, '0') # add trailing zeros if less than 11 characters.\n",
    "        df_precinct_results_tracts = pd.merge(df_precinct_results_mapped, df_census_tracts, left_on='nearest_bound_census_tract', right_on='geoid_tract', how='left')\n",
    "        df_precinct_results_tracts['standardized_id_num'] = df_precinct_results_tracts['standardized_id_num'].astype(str).str.zfill(13)\n",
    "        \n",
    "        df_precinct_results_tracts.to_csv('data/generated_data/df_06_tract_' + year + '_' + office.replace('.', '').replace(' ', '_') + '.csv', index=False)"
   ]
  },
  {
   "cell_type": "markdown",
   "id": "4c024ce3-483a-455c-ab32-547b2b10db1f",
   "metadata": {},
   "source": [
    "### Join census demographic data"
   ]
  },
  {
   "cell_type": "code",
   "execution_count": null,
   "id": "1fd0a6f0-33a3-4a96-a1ca-939ee679be64",
   "metadata": {},
   "outputs": [],
   "source": [
    "def makeCensusData(datasets):\n",
    "    for dataset in datasets:\n",
    "        for year in YEARS:\n",
    "            for office in OFFICES:\n",
    "                # Census datasets have varied codes\n",
    "                dataset = dataset.lower()\n",
    "                if dataset[:1] == 's':\n",
    "                    dataset_code = dataset[:5].upper()\n",
    "                    dataset_label = dataset[6:]\n",
    "                    data_type = 'ACSST5Y'\n",
    "                elif dataset[:1] == 'b':\n",
    "                    dataset_code = dataset[:6].upper()\n",
    "                    dataset_label = dataset[7:]\n",
    "                    data_type = 'ACSDT5Y'\n",
    "                elif dataset[:1] == 'd':\n",
    "                    dataset_code = dataset[:4].upper()\n",
    "                    dataset_label = dataset[5:]\n",
    "                    data_type = 'ACSDP5Y'\n",
    "\n",
    "                # If year is 2024, use 2023 data since 2024 has no data yet.\n",
    "                if year == '2024':\n",
    "                    census_year = '2023'\n",
    "                else:\n",
    "                    census_year = year\n",
    "                \n",
    "                df = pd.read_csv(f'data/census/{dataset}/{data_type}' + census_year + f'.{dataset_code}-Data.csv', header=0, skiprows=[1])\n",
    "        \n",
    "                df_columns = pd.read_csv(f'data/census/{dataset}/{data_type}' + census_year + f'.{dataset_code}-Column-Metadata.csv', header=0, skiprows=[2])\n",
    "                df_columns = df_columns[~df_columns[\"Label\"].str.contains(\"Margin of Error!!\", na=False, case=False)]\n",
    "                columns = list(df_columns['Column Name'])\n",
    "                \n",
    "                df = df[columns]\n",
    "                df.rename(columns={'GEO_ID': f'geoid_{dataset_label}'}, inplace=True)\n",
    "                df.to_csv(f'data/generated_data/df_06_{dataset_label}_' + year + '_' + office.replace('.', '').replace(' ', '_') + '.csv', index=False)\n",
    "                \n",
    "                df_merged = pd.merge(df_precinct_results_tracts, df, left_on='geoidfq_tract', right_on=f'geoid_{dataset_label}', how='left')\n",
    "                df_merged.drop(columns=[f\"geoid_{dataset_label}\"], inplace=True)\n",
    "                \n",
    "                df_merged.to_csv(f'data/generated_data/df_06_tract_{dataset_label}_' + year + '_' + office.replace('.', '').replace(' ', '_') + '.csv', index=False)"
   ]
  },
  {
   "cell_type": "code",
   "execution_count": null,
   "id": "0800de2c-b2c7-482c-a1db-a39cebff55b0",
   "metadata": {},
   "outputs": [],
   "source": [
    "census_datasets = [\n",
    "    'b02001_race', 'b04007_ancestry', 'b05012_nativity_us', 'b08303_travel_time_work', 'b25003_housing_rentership', \n",
    "    'dp02_selected_social_characteristics', 'dp03_selected_economic_characteristics', 'dp04_housing_characteristics', 'dp05_age_race', \n",
    "    's0101_age_sex', 's1101_households_families', 's1201_marital_status', 's1501_educational_attainment', 's1701_income_poverty', \n",
    "    's1903_median_income', 's2101_veteran_status', 's2201_food_stamps', 's2301_employment_status', 's2401_occupation_sex', \n",
    "    's2403_industry_sex', 's2501_occupancy_characteristics', 's2701_health_insurance', 's2503_financial_characteristics',\n",
    "]\n",
    "\n",
    "makeCensusData(census_datasets)"
   ]
  },
  {
   "cell_type": "code",
   "execution_count": null,
   "id": "7d8e7d22-0235-4533-8ae5-2680565e6f18",
   "metadata": {},
   "outputs": [],
   "source": []
  }
 ],
 "metadata": {
  "kernelspec": {
   "display_name": "Python 3 (ipykernel)",
   "language": "python",
   "name": "python3"
  },
  "language_info": {
   "codemirror_mode": {
    "name": "ipython",
    "version": 3
   },
   "file_extension": ".py",
   "mimetype": "text/x-python",
   "name": "python",
   "nbconvert_exporter": "python",
   "pygments_lexer": "ipython3",
   "version": "3.12.7"
  }
 },
 "nbformat": 4,
 "nbformat_minor": 5
}
