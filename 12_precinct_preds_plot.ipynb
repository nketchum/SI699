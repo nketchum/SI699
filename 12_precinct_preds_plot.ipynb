{
 "cells": [
  {
   "cell_type": "code",
   "execution_count": null,
   "id": "a8f8f504-927d-4f41-a712-ecabcae6cdcb",
   "metadata": {},
   "outputs": [],
   "source": [
    "# President: 2016 (Trump), 2020 (Biden), 2024 (Trump)\n",
    "# U.S. Senate: 2014 (Peters), 2018 (Stabenow), 2020 (Peters), 2024 (Slotkin)\n",
    "# U.S. House: every cycle\n",
    "# State Senate: 2014, 2018, 2022\n",
    "# State House: every cycle\n",
    "\n",
    "ELECTIONS = {}\n",
    "\n",
    "ELECTIONS['U.S. House'] =   ['2024']\n",
    "ELECTIONS['State House'] =  ['2024']\n",
    "ELECTIONS['President'] =    ['2024']\n",
    "\n",
    "TARGETS = ['partisan_temp']\n",
    "\n",
    "TOP_N_FEATURES = 20\n",
    "FEATURES_ALREADY_RANKED = True"
   ]
  },
  {
   "cell_type": "code",
   "execution_count": null,
   "id": "2c294343-29f6-4ca9-8061-3d187da6463d",
   "metadata": {},
   "outputs": [],
   "source": [
    "import warnings\n",
    "warnings.filterwarnings(\"ignore\")"
   ]
  },
  {
   "cell_type": "code",
   "execution_count": null,
   "id": "c7b3a670-c5e0-43c4-9b30-09f01b25d8b6",
   "metadata": {},
   "outputs": [],
   "source": [
    "from matplotlib.colors import Normalize, LinearSegmentedColormap, to_rgba\n",
    "from matplotlib.colors import TwoSlopeNorm\n",
    "from mpl_toolkits.axes_grid1 import make_axes_locatable\n",
    "import geopandas as gpd\n",
    "import matplotlib.pyplot as plt\n",
    "import numpy as np\n",
    "import pandas as pd"
   ]
  },
  {
   "cell_type": "code",
   "execution_count": null,
   "id": "ed9b518d-1e8c-422f-aadf-fab2064aec31",
   "metadata": {},
   "outputs": [],
   "source": [
    "pd.set_option(\"display.max_rows\", None)\n",
    "pd.set_option(\"display.max_columns\", None)"
   ]
  },
  {
   "cell_type": "code",
   "execution_count": null,
   "id": "7129a1fd-f3b4-4de6-9772-cfe3029e6326",
   "metadata": {},
   "outputs": [],
   "source": [
    "# https://stackoverflow.com/questions/66171467/how-to-get-all-color-codes-from-linearsegmentedcolormap\n",
    "# https://discourse.matplotlib.org/t/register-colormap-collection/19501\n",
    "\n",
    "def makeSmoothPartisanColormap(n_colors=99):\n",
    "    assert n_colors % 2 == 1, \"Use an odd number for a center gray\"\n",
    "    half = n_colors // 2\n",
    "\n",
    "    # Blue side (-1)\n",
    "    reds_neg = np.linspace(0, 127, half, dtype=int)\n",
    "    greens_neg = np.linspace(0, 127, half, dtype=int)\n",
    "    blues_neg = np.linspace(255, 127, half, dtype=int)\n",
    "    blue_half = [(r, g, b) for r, g, b in zip(reds_neg, greens_neg, blues_neg)]\n",
    "\n",
    "    # Center gray\n",
    "    middle = [(128, 128, 128)]\n",
    "\n",
    "    # Red side (+1)\n",
    "    reds_pos = np.linspace(129, 255, half, dtype=int)\n",
    "    greens_pos = np.linspace(129, 0, half, dtype=int)\n",
    "    blues_pos = np.linspace(129, 0, half, dtype=int)\n",
    "    red_half = [(r, g, b) for r, g, b in zip(reds_pos, greens_pos, blues_pos)]\n",
    "\n",
    "    full_rgb = blue_half + middle + red_half\n",
    "    hex_colors = ['#{:02x}{:02x}{:02x}'.format(r, g, b) for r, g, b in full_rgb]\n",
    "    return LinearSegmentedColormap.from_list(\"smooth_partisan\", hex_colors, N=256)\n",
    "\n",
    "def getCenteredNorm(df, column, soft_clip=0.3):\n",
    "    return TwoSlopeNorm(vmin=-soft_clip, vcenter=0, vmax=soft_clip)"
   ]
  },
  {
   "cell_type": "code",
   "execution_count": null,
   "id": "bc6a3a9c-0436-4a4e-8c33-707b34cb8c27",
   "metadata": {},
   "outputs": [],
   "source": [
    "def plotPrecinctBounds(df, target, year, office, is_pred=True):\n",
    "\n",
    "    if is_pred == True:\n",
    "        plot_column = 'predicted_label'\n",
    "    else:\n",
    "        plot_column = 'true_label'\n",
    "\n",
    "    fig, ax = plt.subplots(figsize=(80, 80))\n",
    "    divider = make_axes_locatable(ax)\n",
    "\n",
    "    df.boundary.plot(ax=ax, color=\"black\", linewidth=0.1)\n",
    "\n",
    "    cmap = makeSmoothPartisanColormap()\n",
    "    norm = getCenteredNorm(df, plot_column, soft_clip=0.5)\n",
    "    df.plot(ax=ax, column=plot_column, cmap=cmap, norm=norm, edgecolor=\"black\", linewidth=0.01)\n",
    "\n",
    "    ax.margins(0)\n",
    "    ax.set_title('Precinct Preds', fontsize=64)\n",
    "    ax.set_axis_off()\n",
    "\n",
    "    plt.subplots_adjust(left=0, right=1, top=1, bottom=0)\n",
    "\n",
    "    if is_pred:\n",
    "        filename = f'output/maps/precincts/{target}_{year}_{office.replace(\" \", \"_\").replace(\".\", \"\")}_Prediction_Map.png'\n",
    "    else:\n",
    "        filename = f'output/maps/precincts/{target}_{year}_{office.replace(\" \", \"_\").replace(\".\", \"\")}_True_Map.png'\n",
    "    \n",
    "    plt.savefig(filename)\n",
    "    # plt.show()\n",
    "    plt.close(fig)"
   ]
  },
  {
   "cell_type": "code",
   "execution_count": null,
   "id": "9766ad4a-26d2-4fd1-8c1d-3f977383bcb4",
   "metadata": {},
   "outputs": [],
   "source": [
    "print(f'Num. of offices to process: {len(ELECTIONS)}')\n",
    "\n",
    "for target in TARGETS:\n",
    "    print(f'Processing target {target}...')\n",
    "\n",
    "    for key, value in ELECTIONS.items():\n",
    "        print(f'Num. of years to process: {len(value)}')\n",
    "\n",
    "        OFFICES = [key]\n",
    "        YEARS = value\n",
    "    \n",
    "        for year in YEARS:\n",
    "            for office in OFFICES:\n",
    "\n",
    "                df_precinct_outcomes = gpd.read_file(f'data/generated_data/df_02_vote_changes_calc_{year}_{office.replace(' ', '_').replace('.', '')}.geojson', driver='GeoJSON')\n",
    "                df_precinct_outcomes['standardized_id_num'] = df_precinct_outcomes['standardized_id_num'].astype(str).str.zfill(13)\n",
    "\n",
    "                df_preds = pd.read_csv(f'data/generated_data/predicted_{target}_{year}_holdout.csv')\n",
    "                df_preds['standardized_id_num'] = df_preds['standardized_id_num'].astype(int).astype(str).str.zfill(13)\n",
    "        \n",
    "                df_precinct_pred = df_precinct_outcomes.merge(df_preds, on=\"standardized_id_num\", how=\"inner\")\n",
    "\n",
    "                merged_cols = df_precinct_pred.columns\n",
    "                if f\"{target}_x\" in merged_cols and f\"{target}_y\" in merged_cols:\n",
    "                    df_precinct_pred.drop(columns=[f\"{target}_y\"], inplace=True)\n",
    "                    df_precinct_pred.rename(columns={f\"{target}_x\": target}, inplace=True)\n",
    "                \n",
    "                # Sanity check\n",
    "                if target not in df_precinct_pred.columns:\n",
    "                    raise ValueError(f\"Target '{target}' not found in df_precinct_pred after merge for {year} {office}.\")\n",
    "                \n",
    "                plotPrecinctBounds(df_precinct_pred, target, year, office, True) # predictions\n",
    "                plotPrecinctBounds(df_precinct_pred, target, year, office, False) # truth\n",
    "        \n",
    "        print('DONE')"
   ]
  },
  {
   "cell_type": "code",
   "execution_count": null,
   "id": "8bdef0f5-4a38-441e-b1f1-3e13dfb67788",
   "metadata": {},
   "outputs": [],
   "source": []
  }
 ],
 "metadata": {
  "kernelspec": {
   "display_name": "Python 3 (ipykernel)",
   "language": "python",
   "name": "python3"
  },
  "language_info": {
   "codemirror_mode": {
    "name": "ipython",
    "version": 3
   },
   "file_extension": ".py",
   "mimetype": "text/x-python",
   "name": "python",
   "nbconvert_exporter": "python",
   "pygments_lexer": "ipython3",
   "version": "3.12.7"
  }
 },
 "nbformat": 4,
 "nbformat_minor": 5
}
