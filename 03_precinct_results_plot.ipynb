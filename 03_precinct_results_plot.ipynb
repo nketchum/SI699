{
 "cells": [
  {
   "cell_type": "code",
   "execution_count": null,
   "id": "ff70f059-a851-4f87-ad95-c38c5549b8ab",
   "metadata": {},
   "outputs": [],
   "source": [
    "# President: 2016 (Trump), 2020 (Biden), 2024 (Trump)\n",
    "# Governor: 2018 (Whitmer), 2022 (Whitmer)\n",
    "# Secretary of State: 2018 (Benson), 2022 (Benson)\n",
    "# Attorney General: 2018 (Nessel), 2022 (Nessel)\n",
    "# U.S. Senate: 2014 (Peters), 2018 (Stabenow), 2020 (Peters), 2024 (Slotkin)\n",
    "# U.S. House: every cycle\n",
    "# State Senate: 2014, 2018, 2022\n",
    "# State House: every cycle\n",
    "\n",
    "# OFFICES = ['U.S. House', 'State House']\n",
    "OFFICES = ['U.S. House']\n",
    "YEARS = ['2014', '2016', '2018', '2020', '2022', '2024']\n",
    "\n",
    "# OFFICES = ['U.S. Senate']\n",
    "# YEARS = ['2014', '2018', '2020', '2024']\n",
    "\n",
    "# OFFICES = ['State Senate']\n",
    "# YEARS = ['2014', '2018', '2022']\n",
    "\n",
    "# OFFICES = ['President']\n",
    "# YEARS = ['2016', '2020', '2024']\n",
    "\n",
    "# Not enough data\n",
    "# # OFFICES = ['Governor', 'Secretary of State', 'Attorney General']\n",
    "# # YEARS = ['2018', '2022']"
   ]
  },
  {
   "cell_type": "code",
   "execution_count": null,
   "id": "2c294343-29f6-4ca9-8061-3d187da6463d",
   "metadata": {},
   "outputs": [],
   "source": [
    "import warnings\n",
    "warnings.filterwarnings(\"ignore\")"
   ]
  },
  {
   "cell_type": "code",
   "execution_count": null,
   "id": "c7b3a670-c5e0-43c4-9b30-09f01b25d8b6",
   "metadata": {},
   "outputs": [],
   "source": [
    "import geopandas as gpd\n",
    "import pandas as pd\n",
    "import matplotlib.pyplot as plt\n",
    "import numpy as np"
   ]
  },
  {
   "cell_type": "code",
   "execution_count": null,
   "id": "ed9b518d-1e8c-422f-aadf-fab2064aec31",
   "metadata": {},
   "outputs": [],
   "source": [
    "pd.set_option(\"display.max_rows\", None)\n",
    "pd.set_option(\"display.max_columns\", None)"
   ]
  },
  {
   "cell_type": "markdown",
   "id": "a5d33b5a-ad2a-4be7-b211-c53b5bd0094c",
   "metadata": {},
   "source": [
    "### Plots unseen data\n",
    "Uses vote shares from current election outcome, which is looking into the future."
   ]
  },
  {
   "cell_type": "code",
   "execution_count": null,
   "id": "bc6a3a9c-0436-4a4e-8c33-707b34cb8c27",
   "metadata": {},
   "outputs": [],
   "source": [
    "from mpl_toolkits.axes_grid1 import make_axes_locatable\n",
    "from matplotlib.colors import to_rgba\n",
    "\n",
    "def plotPrecinctBounds(df, year, office):\n",
    "    color_map = {\n",
    "        'D': np.array([0, 0, 255]),   # Blue\n",
    "        'R': np.array([255, 0, 0]),   # Red\n",
    "        'I': np.array([255, 255, 0])  # Yellow\n",
    "    }\n",
    "\n",
    "    # Weighted sum of RGB components\n",
    "    def compute_mixed_color(row):       \n",
    "        mixed_rgb = (\n",
    "            row['dem_share'] * color_map['D'] +\n",
    "            row['rep_share'] * color_map['R'] +\n",
    "            row['oth_share'] * color_map['I']\n",
    "        )\n",
    "        return tuple(mixed_rgb.astype(int) / 255)\n",
    "\n",
    "    df['color'] = df.apply(compute_mixed_color, axis=1)\n",
    "\n",
    "    fig, ax = plt.subplots(figsize=(80, 80))\n",
    "    divider = make_axes_locatable(ax)\n",
    "\n",
    "    df.boundary.plot(ax=ax, color=\"black\", linewidth=0.1)\n",
    "    df.plot(ax=ax, color=df['color'], edgecolor=\"black\", linewidth=0.01)\n",
    "\n",
    "    ax.margins(0)\n",
    "    ax.set_title('Precinct Outcomes', fontsize=64)\n",
    "    ax.set_axis_off()\n",
    "\n",
    "    plt.subplots_adjust(left=0, right=1, top=1, bottom=0)\n",
    "    plt.savefig('output/maps/precincts/' + str(year) + \"_\" + office.replace('.', '').replace(' ', '_') + \"_Map.png\")\n",
    "    \n",
    "    plt.close(fig)"
   ]
  },
  {
   "cell_type": "code",
   "execution_count": null,
   "id": "142d3a5f-7201-49ff-bf1d-d753fa75127d",
   "metadata": {},
   "outputs": [],
   "source": [
    "for year in YEARS:\n",
    "    for office in OFFICES:\n",
    "        df_precinct_outcomes = gpd.read_file('data/generated_data/df_02_vote_changes_calc_' + str(year) + '_' + office.replace('.', '').replace(' ', '_') + '.geojson', driver='GeoJSON')\n",
    "        plotPrecinctBounds(df_precinct_outcomes, year, office)"
   ]
  },
  {
   "cell_type": "code",
   "execution_count": null,
   "id": "85ede4e8-78e7-429f-a517-75e2b84955f6",
   "metadata": {},
   "outputs": [],
   "source": []
  }
 ],
 "metadata": {
  "kernelspec": {
   "display_name": "Python 3 (ipykernel)",
   "language": "python",
   "name": "python3"
  },
  "language_info": {
   "codemirror_mode": {
    "name": "ipython",
    "version": 3
   },
   "file_extension": ".py",
   "mimetype": "text/x-python",
   "name": "python",
   "nbconvert_exporter": "python",
   "pygments_lexer": "ipython3",
   "version": "3.12.7"
  }
 },
 "nbformat": 4,
 "nbformat_minor": 5
}
